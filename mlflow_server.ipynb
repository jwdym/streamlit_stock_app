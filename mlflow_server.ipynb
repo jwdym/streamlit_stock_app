{
 "cells": [
  {
   "cell_type": "code",
   "execution_count": 2,
   "metadata": {},
   "outputs": [
    {
     "name": "stdout",
     "output_type": "stream",
     "text": [
      "[2024-05-27 21:58:16 -0600] [96988] [INFO] Starting gunicorn 22.0.0\n",
      "[2024-05-27 21:58:16 -0600] [96988] [INFO] Listening at: http://127.0.0.1:8080 (96988)\n",
      "[2024-05-27 21:58:16 -0600] [96988] [INFO] Using worker: sync\n",
      "[2024-05-27 21:58:16 -0600] [96989] [INFO] Booting worker with pid: 96989\n",
      "[2024-05-27 21:58:16 -0600] [96990] [INFO] Booting worker with pid: 96990\n",
      "[2024-05-27 21:58:16 -0600] [96991] [INFO] Booting worker with pid: 96991\n",
      "[2024-05-27 21:58:16 -0600] [96992] [INFO] Booting worker with pid: 96992\n",
      "Downloading artifacts: 100%|████████████████████| 1/1 [00:00<00:00, 2755.78it/s]\n",
      "Downloading artifacts: 100%|████████████████████| 1/1 [00:00<00:00, 2489.20it/s]\n",
      "Downloading artifacts: 100%|████████████████████| 1/1 [00:00<00:00, 1642.25it/s]\n",
      "Downloading artifacts: 100%|████████████████████| 1/1 [00:00<00:00, 1418.43it/s]\n",
      "Downloading artifacts: 100%|████████████████████| 1/1 [00:00<00:00, 1772.74it/s]\n",
      "Downloading artifacts: 100%|████████████████████| 1/1 [00:00<00:00, 1642.25it/s]\n",
      "Downloading artifacts: 100%|████████████████████| 1/1 [00:00<00:00, 2841.67it/s]\n",
      "Downloading artifacts: 100%|████████████████████| 1/1 [00:00<00:00, 1760.09it/s]\n",
      "Downloading artifacts: 100%|████████████████████| 1/1 [00:00<00:00, 2410.52it/s]\n",
      "Downloading artifacts: 100%|████████████████████| 1/1 [00:00<00:00, 1358.70it/s]\n",
      "Downloading artifacts: 100%|████████████████████| 1/1 [00:00<00:00, 1628.86it/s]\n",
      "Downloading artifacts: 100%|████████████████████| 1/1 [00:00<00:00, 1679.74it/s]\n",
      "Downloading artifacts: 100%|████████████████████| 1/1 [00:00<00:00, 1946.31it/s]\n",
      "Downloading artifacts: 100%|████████████████████| 1/1 [00:00<00:00, 2267.19it/s]\n",
      "Downloading artifacts: 100%|████████████████████| 1/1 [00:00<00:00, 2067.18it/s]\n",
      "Downloading artifacts: 100%|████████████████████| 1/1 [00:00<00:00, 1550.00it/s]\n",
      "Downloading artifacts: 100%|████████████████████| 1/1 [00:00<00:00, 1661.77it/s]\n",
      "Downloading artifacts: 100%|████████████████████| 1/1 [00:00<00:00, 1582.76it/s]\n",
      "^C\n",
      "[2024-05-29 22:07:30 -0600] [96988] [INFO] Handling signal: int\n",
      "[2024-05-29 22:07:30 -0600] [96992] [INFO] Worker exiting (pid: 96992)\n",
      "[2024-05-29 22:07:30 -0600] [96991] [INFO] Worker exiting (pid: 96991)\n",
      "[2024-05-29 22:07:30 -0600] [96990] [INFO] Worker exiting (pid: 96990)\n",
      "[2024-05-29 22:07:30 -0600] [96989] [INFO] Worker exiting (pid: 96989)\n"
     ]
    }
   ],
   "source": [
    "!mlflow server --host 127.0.0.1 --port 8080"
   ]
  }
 ],
 "metadata": {
  "kernelspec": {
   "display_name": "Python 3",
   "language": "python",
   "name": "python3"
  },
  "language_info": {
   "codemirror_mode": {
    "name": "ipython",
    "version": 3
   },
   "file_extension": ".py",
   "mimetype": "text/x-python",
   "name": "python",
   "nbconvert_exporter": "python",
   "pygments_lexer": "ipython3",
   "version": "3.12.3"
  }
 },
 "nbformat": 4,
 "nbformat_minor": 2
}
